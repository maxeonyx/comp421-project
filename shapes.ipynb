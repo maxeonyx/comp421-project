{
 "cells": [
  {
   "cell_type": "code",
   "execution_count": 340,
   "metadata": {},
   "outputs": [],
   "source": [
    "from PIL import Image, ImageDraw\n",
    "from IPython.display import display\n",
    "import numpy as np"
   ]
  },
  {
   "cell_type": "code",
   "execution_count": 5,
   "metadata": {},
   "outputs": [
    {
     "data": {
      "image/png": "[encoded data removed]",
      "text/plain": [
       "<PIL.Image.Image image mode=RGB size=30x30 at 0x7FF010130520>"
      ]
     },
     "execution_count": 5,
     "metadata": {},
     "output_type": "execute_result"
    }
   ],
   "source": [
    "x = Image.new(\"RGB\", (48, 48))\n",
    "x"
   ]
  },
  {
   "cell_type": "code",
   "execution_count": 387,
   "metadata": {},
   "outputs": [
    {
     "data": {
      "image/png": "[encoded data removed]",
      "text/plain": [
       "<PIL.Image.Image image mode=RGB size=150x150 at 0x7FEFD3CE5370>"
      ]
     },
     "metadata": {},
     "output_type": "display_data"
    },
    {
     "data": {
      "image/png": "[encoded data removed]",
      "text/plain": [
       "<PIL.Image.Image image mode=RGB size=48x48 at 0x7FF01018C550>"
      ]
     },
     "metadata": {},
     "output_type": "display_data"
    }
   ],
   "source": [
    "scale = 5\n",
    "line_width = scale*2\n",
    "size = scale * 30\n",
    "radius = scale * 8\n",
    "\n",
    "x = Image.new(\"RGB\", (size, size))\n",
    "d = ImageDraw.Draw(x)\n",
    "\n",
    "center_x = size / 2\n",
    "center_y = size / 2\n",
    "white = (255, 255, 255)\n",
    "black = (0, 0, 0)\n",
    "\n",
    "def rect(d, center_x, center_y, radius, angle, fill):\n",
    "    point1x = center_x + radius * np.cos(angle)\n",
    "    point1y = center_y + radius * np.sin(angle)\n",
    "    point2x = center_x + radius * np.cos(angle+np.pi/2)\n",
    "    point2y = center_y + radius * np.sin(angle+np.pi/2)\n",
    "    point3x = center_x + radius * np.cos(angle+np.pi)\n",
    "    point3y = center_y + radius * np.sin(angle+np.pi)\n",
    "    point4x = center_x + radius * np.cos(angle-np.pi/2)\n",
    "    point4y = center_y + radius * np.sin(angle-np.pi/2)\n",
    "    \n",
    "    d.polygon([(point1x, point1y), (point2x,point2y), (point3x,point3y), (point4x,point4y)], fill=fill)\n",
    "\n",
    "def tri(d, center_x, center_y, radius, angle, fill):\n",
    "    point1x = center_x + radius * np.cos(angle)\n",
    "    point1y = center_y + radius * np.sin(angle)\n",
    "    point2x = center_x + radius * np.cos(angle+2*np.pi/3)\n",
    "    point2y = center_y + radius * np.sin(angle+2*np.pi/3)\n",
    "    point3x = center_x + radius * np.cos(angle-2*np.pi/3)\n",
    "    point3y = center_y + radius * np.sin(angle-2*np.pi/3)\n",
    "    \n",
    "    d.polygon([(point1x, point1y), (point2x,point2y), (point3x,point3y)], fill=fill)\n",
    "    \n",
    "angle = np.random.uniform(-np.pi, np.pi)\n",
    "\n",
    "rect(d, center_x, center_y, radius, angle, white)\n",
    "rect(d, center_x, center_y, radius-line_width, angle, black)\n",
    "rect(d, center_x, center_y, radius-line_width*2-1, angle, white)\n",
    "rect(d, center_x, center_y, radius-line_width*3-1, angle, black)\n",
    "\n",
    "# tri(d, center_x, center_y, radius, angle, white)\n",
    "# tri(d, center_x, center_y, radius-line_width, angle, black)\n",
    "# tri(d, center_x, center_y, radius-line_width*2-1, angle, white)\n",
    "# tri(d, center_x, center_y, radius-line_width*3-1, angle, black)\n",
    "\n",
    "display(x)\n",
    "\n",
    "small = x.resize((48, 48))\n",
    "display(small)"
   ]
  },
  {
   "cell_type": "code",
   "execution_count": 338,
   "metadata": {},
   "outputs": [
    {
     "data": {
      "image/png": "[encoded data removed]",
      "text/plain": [
       "<PIL.Image.Image image mode=RGB size=150x150 at 0x7FEFD3ECCCA0>"
      ]
     },
     "metadata": {},
     "output_type": "display_data"
    }
   ],
   "source": [
    "r = np.linspace(-1, 1, size)\n",
    "coords = np.stack(np.meshgrid(r, r), axis=-1)\n",
    "\n",
    "center = np.array([0.2, 0.2])\n",
    "\n",
    "angles = np.arctan2(coords[:, :, 0] - center[0], coords[:, :, 1] - center[1])\n",
    "magnitudes = np.linalg.norm(coords - center, axis=-1)\n",
    "angles = angles\n",
    "h = angles / (2*np.pi) + 0.5\n",
    "s = np.ones(h.shape)\n",
    "v = np.ones(h.shape)\n",
    "# v = np.clip(magnitudes * 2, 0, 1)**0.5\n",
    "\n",
    "hsv = np.stack([h, s, v], axis=-1)\n",
    "hsv = hsv * 255\n",
    "hsv = hsv.astype(np.uint8)\n",
    "\n",
    "i = Image.fromarray(hsv, mode=\"HSV\")\n",
    "i = i.convert(mode=\"RGB\")\n",
    "display(i)\n",
    "\n",
    "rainbow = np.asarray(i)"
   ]
  },
  {
   "cell_type": "code",
   "execution_count": 388,
   "metadata": {},
   "outputs": [
    {
     "data": {
      "image/png": "[encoded data removed]",
      "text/plain": [
       "<PIL.Image.Image image mode=RGB size=48x48 at 0x7FEFD3F25790>"
      ]
     },
     "execution_count": 388,
     "metadata": {},
     "output_type": "execute_result"
    }
   ],
   "source": [
    "x.readonly = False\n",
    "tri = np.asarray(x).astype(np.float32) / 255.0\n",
    "rbow = np.asarray(rainbow).astype(np.float32) / 255.0\n",
    "tri *= rbow\n",
    "colorful = tri\n",
    "\n",
    "colorful = colorful * 255\n",
    "colorful = colorful.astype(np.uint8)\n",
    "\n",
    "r = Image.fromarray(colorful, mode=\"RGB\")\n",
    "r.resize((48, 48))"
   ]
  },
  {
   "cell_type": "code",
   "execution_count": 342,
   "metadata": {},
   "outputs": [
    {
     "ename": "AttributeError",
     "evalue": "'ImageDraw' object has no attribute 'classes'",
     "output_type": "error",
     "traceback": [
      "\u001b[0;31m---------------------------------------------------------------------------\u001b[0m",
      "\u001b[0;31mAttributeError\u001b[0m                            Traceback (most recent call last)",
      "\u001b[0;32m<ipython-input-342-3a0d962a20ab>\u001b[0m in \u001b[0;36m<module>\u001b[0;34m\u001b[0m\n\u001b[0;32m----> 1\u001b[0;31m \u001b[0;32mfor\u001b[0m \u001b[0mi\u001b[0m\u001b[0;34m,\u001b[0m \u001b[0mclss\u001b[0m \u001b[0;32min\u001b[0m \u001b[0md\u001b[0m\u001b[0;34m.\u001b[0m\u001b[0mclasses\u001b[0m\u001b[0;34m(\u001b[0m\u001b[0;34m)\u001b[0m\u001b[0;34m:\u001b[0m\u001b[0;34m\u001b[0m\u001b[0;34m\u001b[0m\u001b[0m\n\u001b[0m\u001b[1;32m      2\u001b[0m     \u001b[0mprint\u001b[0m\u001b[0;34m(\u001b[0m\u001b[0mi\u001b[0m\u001b[0;34m,\u001b[0m \u001b[0mclss\u001b[0m\u001b[0;34m)\u001b[0m\u001b[0;34m\u001b[0m\u001b[0;34m\u001b[0m\u001b[0m\n",
      "\u001b[0;31mAttributeError\u001b[0m: 'ImageDraw' object has no attribute 'classes'"
     ]
    }
   ],
   "source": []
  }
 ],
 "metadata": {
  "kernelspec": {
   "display_name": "Python 3.8.3 64-bit ('env': venv)",
   "language": "python",
   "name": "python38364bitenvvenv0a5e483af100464fabc3d15b325cd6be"
  },
  "language_info": {
   "codemirror_mode": {
    "name": "ipython",
    "version": 3
   },
   "file_extension": ".py",
   "mimetype": "text/x-python",
   "name": "python",
   "nbconvert_exporter": "python",
   "pygments_lexer": "ipython3",
   "version": "3.8.5"
  }
 },
 "nbformat": 4,
 "nbformat_minor": 4
}
